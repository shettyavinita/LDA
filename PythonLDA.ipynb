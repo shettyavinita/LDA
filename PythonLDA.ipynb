{
 "cells": [
  {
   "cell_type": "code",
   "execution_count": 3,
   "metadata": {
    "collapsed": false
   },
   "outputs": [],
   "source": [
    "from nltk.tokenize import RegexpTokenizer\n",
    "from stop_words import get_stop_words\n",
    "from nltk.stem.porter import PorterStemmer\n",
    "from gensim import corpora, models\n",
    "import gensim\n",
    "\n",
    "tokenizer = RegexpTokenizer(r'\\w+')\n",
    "\n",
    "# create English stop words list\n",
    "en_stop = get_stop_words('en')\n",
    "\n",
    "# Create p_stemmer of class PorterStemmer\n",
    "p_stemmer = PorterStemmer()\n",
    "    \n",
    "# create sample documents\n",
    "doc_a = \"Tis the Season for Christmas Cookies!  My all time favorite Christmas Cookie is, and always has been, the Peanut Butter Kiss Cookie.  However, I have cut peanut butter, sugar and crap out of my life.  But it’s Christmas y’all!  If you’re going to sneak a treat, this is the time to do it!  That being said, I decided to peace out the peanut butter cookie and make a Paleo Almond Butter Cookie!\"\n",
    "doc_b = \"I grew up with a heart for travel.  Then I grew up, got a job and realized I have also heart for vacation.  I’m the kind of traveler who is happy with a trusty backpack, comfy sneakers, a camera and a eurail train pass… I’m also one who won’t say no to luxury hotels, beach views and a fruity beverages.\"\n",
    "doc_c = \"If it were at all possible, I would pay anything and everything to rewind the clock to exactly one year ago today: November 9, 2013.  A day full of glitter and details.  A day of love, joy, and plenty of happy tears.  A day my creative party planning skills were at their finest.  A day when every single person who means the world to me, were all in the exact same room.  A day I partied like a rockstar on cold medicine.  The day I said “I do” to the love of my life.\"\n",
    "doc_d = \"It’s been one month now with the house on the market.  I would by lying if I said I wasn’t on edge about it.  Between keeping it clean and staying nearby just incase I have to swoop up the dogs for a showing… it’s just high stress.  Add to it that we have not had ONE SINGLE SHOWING!  I’m not blaming my realtor one bit.  She’s a rockstar.  She is also my mom and is also not taking a commission if when the house finally sells.  I blame the weather.  We have either had snow on the ground or temps below 40 every day this month.  Only crazy people buy houses in this weather.  Albeit I’m totally okay with selling to anyone, crazy or not.\"\n",
    "doc_e = \"As a professional event planner, I know every shindig needs a Plan A and a Plan B.  Our Plan A included the back deck, a fire pit, tons of space for tons of guests, a canvas in the middle of the yard, sunshine and eggs filled with either blue or pink paint.  Plan B?  Well Plan B involved a cake with either pink or blue on the inside and a lot less space in the house… My parents knew how much Plan A meant to me, so when the forecast was terrible we tried to work around it!\"\n",
    "doc_f = \"Two years ago, he experienced the lowest of the lows, but now Robert Herjavec is bouncing back from a painful divorce – and moving on with his brand-new fiancée, his former Dancing with the Stars partner Kym Johnson. But it wasn't an easy road to his new-found happiness. \"\n",
    "doc_g = \"Chere Rush was a 39-year-old mother with a 10-year-old and 8-year-old twins when she first noticed a small lump in her breast. \"\n",
    "doc_h = \"Redmond police on Wednesday night confirmed that Seahawks safety Kam Chancellor was involved in an incident that led to a 911 call at the Redmond Athletic Club.\"\n",
    "doc_i = \"The grocery chain, which previously accepted only cash and debit cards, is now accepting all major credit cards, including Visa, MasterCard, Discover, and American Express.\"\n",
    "doc_j = \"A new witness has come forward saying he was in the looker room and saw the event at the heart of new sexual-assault allegations against Peyton Manning involving then-University of Tennessee trainer Jamie Naughright.\"\n",
    "\n",
    "# compile sample documents into a list\n",
    "doc_set = [doc_a, \n",
    "           doc_b, \n",
    "           doc_c, doc_d, doc_e, doc_f, doc_g, doc_h, doc_i, doc_j]\n",
    "\n",
    "# list for tokenized documents in loop\n",
    "texts = []\n",
    "\n",
    "# loop through document list\n",
    "for i in doc_set:\n",
    "    \n",
    "    # clean and tokenize document string\n",
    "    raw = i.lower()\n",
    "    tokens = tokenizer.tokenize(raw)\n",
    "\n",
    "    # remove stop words from tokens\n",
    "    stopped_tokens = [i for i in tokens if not i in en_stop]\n",
    "    \n",
    "    # stem tokens\n",
    "    stemmed_tokens = [p_stemmer.stem(i) for i in stopped_tokens]\n",
    "    \n",
    "    # add tokens to list\n",
    "    texts.append(stemmed_tokens)\n",
    "\n",
    "# turn our tokenized documents into a id <-> term dictionary\n",
    "dictionary = corpora.Dictionary(texts)\n",
    "    \n",
    "# convert tokenized documents into a document-term matrix\n",
    "corpus = [dictionary.doc2bow(text) for text in texts]\n",
    "\n",
    "# generate LDA model\n",
    "ldamodel = gensim.models.ldamodel.LdaModel(corpus, num_topics=10, id2word = dictionary, passes=20)"
   ]
  },
  {
   "cell_type": "code",
   "execution_count": 2,
   "metadata": {
    "collapsed": false
   },
   "outputs": [
    {
     "name": "stdout",
     "output_type": "stream",
     "text": [
      "[(0, u'0.062*plan + 0.032*b + 0.021*either + 0.021*ton + 0.021*space + 0.021*blue + 0.021*pink + 0.021*includ + 0.021*accept + 0.021*card'), (1, u'0.050*redmond + 0.026*involv + 0.026*kam + 0.026*athlet + 0.026*call + 0.026*led + 0.026*confirm + 0.026*polic + 0.026*safeti + 0.026*club'), (2, u'0.004*butter + 0.004*cooki + 0.004*christma + 0.004*peanut + 0.004*time + 0.004*almond + 0.004*decid + 0.004*peac + 0.004*re + 0.004*treat'), (3, u'0.004*m + 0.004*grew + 0.004*heart + 0.004*travel + 0.004*also + 0.004*t + 0.004*luxuri + 0.004*eurail + 0.004*pass + 0.004*sneaker'), (4, u'0.072*year + 0.072*old + 0.025*twin + 0.025*breast + 0.025*10 + 0.025*chere + 0.025*first + 0.025*small + 0.025*8 + 0.025*lump'), (5, u'0.044*new + 0.023*say + 0.023*room + 0.023*heart + 0.023*involv + 0.023*event + 0.023*wit + 0.023*forward + 0.023*peyton + 0.023*trainer'), (6, u'0.054*day + 0.045*cooki + 0.037*butter + 0.028*peanut + 0.028*christma + 0.019*parti + 0.019*love + 0.019*life + 0.019*said + 0.019*time'), (7, u'0.037*new + 0.020*experienc + 0.020*danc + 0.020*lowest + 0.020*bounc + 0.020*happi + 0.020*star + 0.020*easi + 0.020*brand + 0.020*found'), (8, u'0.004*old + 0.004*new + 0.004*accept + 0.004*year + 0.004*seahawk + 0.004*now + 0.004*cooki + 0.004*heart + 0.004*happi + 0.004*room'), (9, u'0.033*one + 0.033*also + 0.033*m + 0.025*s + 0.025*hous + 0.017*just + 0.017*blame + 0.017*month + 0.017*sell + 0.017*travel')]\n"
     ]
    }
   ],
   "source": [
    "print(ldamodel.print_topics(num_topics=10, num_words=10))"
   ]
  },
  {
   "cell_type": "code",
   "execution_count": null,
   "metadata": {
    "collapsed": true
   },
   "outputs": [],
   "source": []
  }
 ],
 "metadata": {
  "kernelspec": {
   "display_name": "Python 2",
   "language": "python",
   "name": "python2"
  },
  "language_info": {
   "codemirror_mode": {
    "name": "ipython",
    "version": 2
   },
   "file_extension": ".py",
   "mimetype": "text/x-python",
   "name": "python",
   "nbconvert_exporter": "python",
   "pygments_lexer": "ipython2",
   "version": "2.7.11"
  }
 },
 "nbformat": 4,
 "nbformat_minor": 0
}
